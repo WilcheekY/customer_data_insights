{
  "nbformat": 4,
  "nbformat_minor": 0,
  "metadata": {
    "colab": {
      "provenance": []
    },
    "kernelspec": {
      "name": "python3",
      "display_name": "Python 3"
    },
    "language_info": {
      "name": "python"
    }
  },
  "cells": [
    {
      "cell_type": "markdown",
      "source": [
        "## CITY SUMMARY"
      ],
      "metadata": {
        "id": "3Y30QIVrIvIm"
      }
    },
    {
      "cell_type": "code",
      "execution_count": null,
      "metadata": {
        "id": "7llz5yzGIgF0"
      },
      "outputs": [],
      "source": [
        "city_group = rideshares_df.groupby([\"city\",\"driver_count\",\"type\"])\n",
        "\n",
        "city_summary = pd.DataFrame()\n",
        "city_summary[\"Total Rides (per City)\"] = city_group[\"ride_id\"].count()\n",
        "city_summary[\"Average Fare ($)\"] = city_group[\"fare\"].mean()\n",
        "city_summary[\"Total Fare ($)\"] = city_group[\"fare\"].sum()\n",
        "city_summary = city_summary.reset_index()\n",
        "\n",
        "\n",
        "city_summary.head()"
      ]
    }
  ]
}